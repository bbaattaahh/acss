{
 "cells": [
  {
   "cell_type": "code",
   "execution_count": 94,
   "metadata": {
    "collapsed": true
   },
   "outputs": [],
   "source": [
    "# Params\n",
    "CHESS_BOARD_COLUMN_NUMBER = 8\n",
    "CHESS_BOARD_ROW_NUMBER = 8"
   ]
  },
  {
   "cell_type": "code",
   "execution_count": 95,
   "metadata": {
    "collapsed": true
   },
   "outputs": [],
   "source": [
    "import numpy as np\n",
    "import cv2\n",
    "import glob\n",
    "\n",
    "images = glob.glob('*.jpg')\n"
   ]
  },
  {
   "cell_type": "code",
   "execution_count": 96,
   "metadata": {
    "collapsed": false
   },
   "outputs": [
    {
     "data": {
      "text/plain": [
       "['calib_radial.jpg', 'cb.jpg']"
      ]
     },
     "execution_count": 96,
     "metadata": {},
     "output_type": "execute_result"
    }
   ],
   "source": [
    "images"
   ]
  },
  {
   "cell_type": "code",
   "execution_count": 97,
   "metadata": {
    "collapsed": true
   },
   "outputs": [],
   "source": [
    "img = cv2.imread(images[1])"
   ]
  },
  {
   "cell_type": "code",
   "execution_count": 98,
   "metadata": {
    "collapsed": true
   },
   "outputs": [],
   "source": [
    "gray = cv2.cvtColor(img,cv2.COLOR_BGR2GRAY)\n",
    "\n",
    "# Find the chess board corners\n",
    "ret, corners = cv2.findChessboardCorners(gray, \n",
    "                                         (CHESS_BOARD_ROW_NUMBER-1,CHESS_BOARD_COLUMN_NUMBER-1),\n",
    "                                         None)\n"
   ]
  },
  {
   "cell_type": "code",
   "execution_count": 99,
   "metadata": {
    "collapsed": false
   },
   "outputs": [
    {
     "data": {
      "text/plain": [
       "(49, 1, 2)"
      ]
     },
     "execution_count": 99,
     "metadata": {},
     "output_type": "execute_result"
    }
   ],
   "source": [
    "corners.shape\n"
   ]
  },
  {
   "cell_type": "code",
   "execution_count": 100,
   "metadata": {
    "collapsed": false
   },
   "outputs": [
    {
     "data": {
      "text/plain": [
       "array([ 93.00907898,  92.56481934], dtype=float32)"
      ]
     },
     "execution_count": 100,
     "metadata": {},
     "output_type": "execute_result"
    }
   ],
   "source": [
    "corners[0][0]"
   ]
  },
  {
   "cell_type": "code",
   "execution_count": 101,
   "metadata": {
    "collapsed": false
   },
   "outputs": [
    {
     "data": {
      "text/plain": [
       "49"
      ]
     },
     "execution_count": 101,
     "metadata": {},
     "output_type": "execute_result"
    }
   ],
   "source": [
    "len(corners)"
   ]
  },
  {
   "cell_type": "code",
   "execution_count": 102,
   "metadata": {
    "collapsed": false
   },
   "outputs": [
    {
     "data": {
      "text/plain": [
       "array([[[  93.00907898,   92.56481934]],\n",
       "\n",
       "       [[ 164.6607666 ,   92.31022644]],\n",
       "\n",
       "       [[ 237.82853699,   92.96026611]],\n",
       "\n",
       "       [[ 308.34387207,   92.77115631]],\n",
       "\n",
       "       [[ 380.77285767,   92.46113586]],\n",
       "\n",
       "       [[ 450.6272583 ,   91.92661285]],\n",
       "\n",
       "       [[ 522.85693359,   93.15995026]],\n",
       "\n",
       "       [[  92.55361176,  159.27507019]],\n",
       "\n",
       "       [[ 162.62393188,  160.16131592]],\n",
       "\n",
       "       [[ 237.30693054,  159.26629639]],\n",
       "\n",
       "       [[ 308.7166748 ,  159.18377686]],\n",
       "\n",
       "       [[ 380.64984131,  159.5393219 ]],\n",
       "\n",
       "       [[ 451.11404419,  160.41021729]],\n",
       "\n",
       "       [[ 523.41082764,  159.22445679]],\n",
       "\n",
       "       [[  92.95285797,  226.91844177]],\n",
       "\n",
       "       [[ 162.2322998 ,  226.46595764]],\n",
       "\n",
       "       [[ 236.39805603,  226.6033783 ]],\n",
       "\n",
       "       [[ 308.08477783,  225.44732666]],\n",
       "\n",
       "       [[ 380.59222412,  226.58531189]],\n",
       "\n",
       "       [[ 451.4005127 ,  227.00282288]],\n",
       "\n",
       "       [[ 525.53338623,  226.08650208]],\n",
       "\n",
       "       [[  92.72883606,  296.37063599]],\n",
       "\n",
       "       [[ 164.97886658,  295.90786743]],\n",
       "\n",
       "       [[ 236.43278503,  294.28619385]],\n",
       "\n",
       "       [[ 306.69372559,  294.57003784]],\n",
       "\n",
       "       [[ 379.40570068,  295.35507202]],\n",
       "\n",
       "       [[ 451.        ,  294.5       ]],\n",
       "\n",
       "       [[ 523.88409424,  292.31973267]],\n",
       "\n",
       "       [[  93.07357788,  364.13961792]],\n",
       "\n",
       "       [[ 165.41247559,  363.85470581]],\n",
       "\n",
       "       [[ 237.46444702,  362.91107178]],\n",
       "\n",
       "       [[ 307.42407227,  361.94726562]],\n",
       "\n",
       "       [[ 379.44519043,  362.07818604]],\n",
       "\n",
       "       [[ 450.5960083 ,  362.0218811 ]],\n",
       "\n",
       "       [[ 524.1015625 ,  361.44210815]],\n",
       "\n",
       "       [[  93.27575684,  432.33911133]],\n",
       "\n",
       "       [[ 165.0282135 ,  431.38754272]],\n",
       "\n",
       "       [[ 238.02967834,  431.22528076]],\n",
       "\n",
       "       [[ 309.04650879,  430.52838135]],\n",
       "\n",
       "       [[ 379.5       ,  429.        ]],\n",
       "\n",
       "       [[ 449.77529907,  429.65991211]],\n",
       "\n",
       "       [[ 524.03039551,  428.6411438 ]],\n",
       "\n",
       "       [[  93.19897461,  494.77493286]],\n",
       "\n",
       "       [[ 164.73606873,  493.64691162]],\n",
       "\n",
       "       [[ 237.91680908,  493.37960815]],\n",
       "\n",
       "       [[ 308.09954834,  492.31231689]],\n",
       "\n",
       "       [[ 380.03796387,  492.94277954]],\n",
       "\n",
       "       [[ 449.9125061 ,  492.29043579]],\n",
       "\n",
       "       [[ 523.80426025,  492.89367676]]], dtype=float32)"
      ]
     },
     "execution_count": 102,
     "metadata": {},
     "output_type": "execute_result"
    }
   ],
   "source": [
    "corners"
   ]
  },
  {
   "cell_type": "code",
   "execution_count": 108,
   "metadata": {
    "collapsed": false
   },
   "outputs": [
    {
     "name": "stdout",
     "output_type": "stream",
     "text": [
      "71.6521\n",
      "73.1707\n",
      "70.5156\n",
      "72.4296\n",
      "69.8564\n",
      "72.2402\n",
      "70.0759\n",
      "74.6884\n",
      "71.4098\n",
      "71.934\n",
      "70.4696\n",
      "72.3065\n",
      "69.2809\n",
      "74.1659\n",
      "71.696\n",
      "72.5164\n",
      "70.8095\n",
      "74.1385\n",
      "72.2515\n",
      "71.4723\n",
      "70.2615\n",
      "72.7162\n",
      "71.5994\n",
      "72.9167\n",
      "72.3395\n",
      "72.0582\n",
      "69.9663\n",
      "72.0212\n",
      "71.1508\n",
      "73.5078\n",
      "71.7588\n",
      "73.0016\n",
      "71.0202\n",
      "70.4701\n",
      "70.2784\n",
      "74.2621\n",
      "71.546\n",
      "73.1812\n",
      "70.1908\n",
      "71.9412\n",
      "69.8776\n",
      "73.8942\n"
     ]
    }
   ],
   "source": [
    "left_neighbour_distances = []\n",
    "for column in range(0, CHESS_BOARD_COLUMN_NUMBER-1):\n",
    "    for row in range(0, CHESS_BOARD_ROW_NUMBER-2):\n",
    "        actual_point = corners[column * (CHESS_BOARD_ROW_NUMBER-1) + row][0]\n",
    "        left_neighbour = corners[column*(CHESS_BOARD_ROW_NUMBER-1) + row + 1][0]\n",
    "        dist1 = np.linalg.norm(actual_point-left_neighbour)\n",
    "        left_neighbour_distances.append(dist1)\n",
    "        print dist1"
   ]
  },
  {
   "cell_type": "code",
   "execution_count": 106,
   "metadata": {
    "collapsed": false
   },
   "outputs": [
    {
     "data": {
      "text/plain": [
       "1.8350508553641183"
      ]
     },
     "execution_count": 106,
     "metadata": {},
     "output_type": "execute_result"
    }
   ],
   "source": [
    "np.var(left_neighbour_distances)"
   ]
  },
  {
   "cell_type": "code",
   "execution_count": 107,
   "metadata": {
    "collapsed": false
   },
   "outputs": [
    {
     "data": {
      "text/plain": [
       "71.834280831473208"
      ]
     },
     "execution_count": 107,
     "metadata": {},
     "output_type": "execute_result"
    }
   ],
   "source": [
    "np.mean(left_neighbour_distances)"
   ]
  },
  {
   "cell_type": "code",
   "execution_count": 45,
   "metadata": {
    "collapsed": false
   },
   "outputs": [
    {
     "data": {
      "text/plain": [
       "42"
      ]
     },
     "execution_count": 45,
     "metadata": {},
     "output_type": "execute_result"
    }
   ],
   "source": [
    "len(left_neighbour_distances)"
   ]
  },
  {
   "cell_type": "code",
   "execution_count": null,
   "metadata": {
    "collapsed": true
   },
   "outputs": [],
   "source": []
  }
 ],
 "metadata": {
  "anaconda-cloud": {},
  "kernelspec": {
   "display_name": "Python [conda root]",
   "language": "python",
   "name": "conda-root-py"
  },
  "language_info": {
   "codemirror_mode": {
    "name": "ipython",
    "version": 2
   },
   "file_extension": ".py",
   "mimetype": "text/x-python",
   "name": "python",
   "nbconvert_exporter": "python",
   "pygments_lexer": "ipython2",
   "version": "2.7.12"
  }
 },
 "nbformat": 4,
 "nbformat_minor": 1
}
