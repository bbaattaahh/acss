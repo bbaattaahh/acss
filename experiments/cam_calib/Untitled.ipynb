{
 "cells": [
  {
   "cell_type": "code",
   "execution_count": 19,
   "metadata": {
    "collapsed": true
   },
   "outputs": [],
   "source": [
    "import numpy as np\n",
    "import cv2\n",
    "import glob\n",
    "\n",
    "# termination criteria\n",
    "criteria = (cv2.TERM_CRITERIA_EPS + cv2.TERM_CRITERIA_MAX_ITER, 30, 0.001)\n",
    "\n",
    "# prepare object points, like (0,0,0), (1,0,0), (2,0,0) ....,(6,5,0)\n",
    "objp = np.zeros((6*7,3), np.float32)\n",
    "objp[:,:2] = np.mgrid[0:7,0:6].T.reshape(-1,2)\n",
    "\n",
    "# Arrays to store object points and image points from all the images.\n",
    "objpoints = [] # 3d point in real world space\n",
    "imgpoints = [] # 2d points in image plane.\n",
    "\n",
    "images = glob.glob('*.jpg')\n"
   ]
  },
  {
   "cell_type": "code",
   "execution_count": 20,
   "metadata": {
    "collapsed": true
   },
   "outputs": [],
   "source": [
    "img = cv2.imread(images[1])"
   ]
  },
  {
   "cell_type": "code",
   "execution_count": 23,
   "metadata": {
    "collapsed": true
   },
   "outputs": [],
   "source": [
    "gray = cv2.cvtColor(img,cv2.COLOR_BGR2GRAY)\n",
    "\n",
    "# Find the chess board corners\n",
    "ret, corners = cv2.findChessboardCorners(gray, (7,7),None)\n"
   ]
  },
  {
   "cell_type": "code",
   "execution_count": 24,
   "metadata": {
    "collapsed": false
   },
   "outputs": [
    {
     "data": {
      "text/plain": [
       "array([[[  93.00907898,   92.56481934]],\n",
       "\n",
       "       [[ 164.6607666 ,   92.31022644]],\n",
       "\n",
       "       [[ 237.82853699,   92.96026611]],\n",
       "\n",
       "       [[ 308.34387207,   92.77115631]],\n",
       "\n",
       "       [[ 380.77285767,   92.46113586]],\n",
       "\n",
       "       [[ 450.6272583 ,   91.92661285]],\n",
       "\n",
       "       [[ 522.85693359,   93.15995026]],\n",
       "\n",
       "       [[  92.55361176,  159.27507019]],\n",
       "\n",
       "       [[ 162.62393188,  160.16131592]],\n",
       "\n",
       "       [[ 237.30693054,  159.26629639]],\n",
       "\n",
       "       [[ 308.7166748 ,  159.18377686]],\n",
       "\n",
       "       [[ 380.64984131,  159.5393219 ]],\n",
       "\n",
       "       [[ 451.11404419,  160.41021729]],\n",
       "\n",
       "       [[ 523.41082764,  159.22445679]],\n",
       "\n",
       "       [[  92.95285797,  226.91844177]],\n",
       "\n",
       "       [[ 162.2322998 ,  226.46595764]],\n",
       "\n",
       "       [[ 236.39805603,  226.6033783 ]],\n",
       "\n",
       "       [[ 308.08477783,  225.44732666]],\n",
       "\n",
       "       [[ 380.59222412,  226.58531189]],\n",
       "\n",
       "       [[ 451.4005127 ,  227.00282288]],\n",
       "\n",
       "       [[ 525.53338623,  226.08650208]],\n",
       "\n",
       "       [[  92.72883606,  296.37063599]],\n",
       "\n",
       "       [[ 164.97886658,  295.90786743]],\n",
       "\n",
       "       [[ 236.43278503,  294.28619385]],\n",
       "\n",
       "       [[ 306.69372559,  294.57003784]],\n",
       "\n",
       "       [[ 379.40570068,  295.35507202]],\n",
       "\n",
       "       [[ 451.        ,  294.5       ]],\n",
       "\n",
       "       [[ 523.88409424,  292.31973267]],\n",
       "\n",
       "       [[  93.07357788,  364.13961792]],\n",
       "\n",
       "       [[ 165.41247559,  363.85470581]],\n",
       "\n",
       "       [[ 237.46444702,  362.91107178]],\n",
       "\n",
       "       [[ 307.42407227,  361.94726562]],\n",
       "\n",
       "       [[ 379.44519043,  362.07818604]],\n",
       "\n",
       "       [[ 450.5960083 ,  362.0218811 ]],\n",
       "\n",
       "       [[ 524.1015625 ,  361.44210815]],\n",
       "\n",
       "       [[  93.27575684,  432.33911133]],\n",
       "\n",
       "       [[ 165.0282135 ,  431.38754272]],\n",
       "\n",
       "       [[ 238.02967834,  431.22528076]],\n",
       "\n",
       "       [[ 309.04650879,  430.52838135]],\n",
       "\n",
       "       [[ 379.5       ,  429.        ]],\n",
       "\n",
       "       [[ 449.77529907,  429.65991211]],\n",
       "\n",
       "       [[ 524.03039551,  428.6411438 ]],\n",
       "\n",
       "       [[  93.19897461,  494.77493286]],\n",
       "\n",
       "       [[ 164.73606873,  493.64691162]],\n",
       "\n",
       "       [[ 237.91680908,  493.37960815]],\n",
       "\n",
       "       [[ 308.09954834,  492.31231689]],\n",
       "\n",
       "       [[ 380.03796387,  492.94277954]],\n",
       "\n",
       "       [[ 449.9125061 ,  492.29043579]],\n",
       "\n",
       "       [[ 523.80426025,  492.89367676]]], dtype=float32)"
      ]
     },
     "execution_count": 24,
     "metadata": {},
     "output_type": "execute_result"
    }
   ],
   "source": [
    "corners"
   ]
  },
  {
   "cell_type": "code",
   "execution_count": null,
   "metadata": {
    "collapsed": true
   },
   "outputs": [],
   "source": []
  }
 ],
 "metadata": {
  "anaconda-cloud": {},
  "kernelspec": {
   "display_name": "Python [conda root]",
   "language": "python",
   "name": "conda-root-py"
  },
  "language_info": {
   "codemirror_mode": {
    "name": "ipython",
    "version": 2
   },
   "file_extension": ".py",
   "mimetype": "text/x-python",
   "name": "python",
   "nbconvert_exporter": "python",
   "pygments_lexer": "ipython2",
   "version": "2.7.12"
  }
 },
 "nbformat": 4,
 "nbformat_minor": 1
}
