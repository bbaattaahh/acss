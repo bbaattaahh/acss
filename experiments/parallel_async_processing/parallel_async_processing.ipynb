{
 "cells": [
  {
   "cell_type": "code",
   "execution_count": 1,
   "metadata": {
    "collapsed": false
   },
   "outputs": [
    {
     "name": "stdout",
     "output_type": "stream",
     "text": [
      "1\n",
      "2\n",
      "jani\n",
      "peti\n"
     ]
    }
   ],
   "source": [
    "import os\n",
    "import multiprocessing as mp\n",
    "import datetime\n",
    "import time\n",
    "\n",
    "\n",
    "def testFunc2():\n",
    "    time.sleep(10)\n",
    "    print(\"peti\")\n",
    "    return \"fun2\"\n",
    "\n",
    "def testFunc3():\n",
    "    time.sleep(5)\n",
    "    print(\"jani\")\n",
    "    return \"fun3\"\n",
    "\n",
    "\n",
    "\n",
    "p = mp.Pool(processes=2)\n",
    "p.apply_async(testFunc2)\n",
    "print(1)\n",
    "p.apply_async(testFunc3)\n",
    "print(2)\n",
    "\n"
   ]
  },
  {
   "cell_type": "code",
   "execution_count": 3,
   "metadata": {
    "collapsed": true
   },
   "outputs": [],
   "source": [
    "class TestClass(object):\n",
    "    def __init__(self):\n",
    "        self.x = 1\n",
    "        \n",
    "    def add(self, num):\n",
    "        time.sleep(num)\n",
    "        self.x = self.x + num"
   ]
  },
  {
   "cell_type": "code",
   "execution_count": 4,
   "metadata": {
    "collapsed": true
   },
   "outputs": [],
   "source": [
    "test1=TestClass()\n",
    "test2=TestClass()"
   ]
  },
  {
   "cell_type": "code",
   "execution_count": 5,
   "metadata": {
    "collapsed": false
   },
   "outputs": [
    {
     "name": "stdout",
     "output_type": "stream",
     "text": [
      "11\n",
      "2\n",
      "6\n"
     ]
    }
   ],
   "source": [
    "p = mp.Pool()\n",
    "p.apply_async(test1.add(10))\n",
    "print(test1.x)\n",
    "p.apply_async(test2.add(5))\n",
    "print(2)\n",
    "print(test2.x)\n",
    "p.close()\n",
    "p.join()"
   ]
  },
  {
   "cell_type": "code",
   "execution_count": 23,
   "metadata": {
    "collapsed": false
   },
   "outputs": [
    {
     "name": "stdout",
     "output_type": "stream",
     "text": [
      "jani\n",
      "hello world\n"
     ]
    }
   ],
   "source": [
    "import time\n",
    "\n",
    "def foo(bar, baz):\n",
    "    time.sleep(10)\n",
    "    print('hello {0}'.format(bar))\n",
    "    return 'foo' + baz\n",
    "\n",
    "from multiprocessing.pool import ThreadPool\n",
    "pool = ThreadPool(processes=2)\n",
    "\n",
    "async_result = pool.apply_async(foo, ('world', 'foo')) # tuple of args for foo\n",
    "# do some other stuff in the main process\n",
    "print(\"jani\")\n",
    "\n",
    "return_val = async_result.get()  # get the return value from your function."
   ]
  },
  {
   "cell_type": "code",
   "execution_count": 18,
   "metadata": {
    "collapsed": false
   },
   "outputs": [
    {
     "data": {
      "text/plain": [
       "'foopeti'"
      ]
     },
     "execution_count": 18,
     "metadata": {},
     "output_type": "execute_result"
    }
   ],
   "source": [
    "return_val"
   ]
  },
  {
   "cell_type": "code",
   "execution_count": 21,
   "metadata": {
    "collapsed": false
   },
   "outputs": [
    {
     "data": {
      "text/plain": [
       "'foopeti'"
      ]
     },
     "execution_count": 21,
     "metadata": {},
     "output_type": "execute_result"
    }
   ],
   "source": [
    "async_result.get()"
   ]
  },
  {
   "cell_type": "code",
   "execution_count": 32,
   "metadata": {
    "collapsed": false
   },
   "outputs": [
    {
     "name": "stdout",
     "output_type": "stream",
     "text": [
      "4\n",
      "9\n",
      "25\n",
      "4\n",
      "9\n",
      "25\n"
     ]
    }
   ],
   "source": [
    "import multiprocessing\n",
    "\n",
    "def calc_square(numbers, q):\n",
    "    for n in numbers:\n",
    "        q.put(n*n)\n",
    "\n",
    "if __name__ == \"__main__\":\n",
    "    numbers = [2,3,5]\n",
    "    q = multiprocessing.Queue()\n",
    "    p = multiprocessing.Process(target=calc_square, args=(numbers,q))\n",
    "    time.sleep(5)\n",
    "    p2 = multiprocessing.Process(target=calc_square, args=(numbers,q))\n",
    "    p.start()\n",
    "    p.join()\n",
    "    p2.start()\n",
    "    p2.join()\n",
    "    \n",
    "    while q.empty() is False:\n",
    "        print(q.get())"
   ]
  },
  {
   "cell_type": "code",
   "execution_count": 31,
   "metadata": {
    "collapsed": false
   },
   "outputs": [
    {
     "data": {
      "text/plain": [
       "True"
      ]
     },
     "execution_count": 31,
     "metadata": {},
     "output_type": "execute_result"
    }
   ],
   "source": [
    "q.empty()"
   ]
  },
  {
   "cell_type": "code",
   "execution_count": 37,
   "metadata": {
    "collapsed": false
   },
   "outputs": [
    {
     "name": "stdout",
     "output_type": "stream",
     "text": [
      "calculate cube of numberscalculate square numbers\n",
      "\n",
      "square:cube: 8\n",
      " 4\n",
      "cube:square:  927\n",
      "\n",
      "cube:square: 64\n",
      " 512\n",
      "square: 81\n",
      "cube: 729\n",
      "done in :  8.025668859481812\n",
      "Hah... I am done with all my work now!\n"
     ]
    }
   ],
   "source": [
    "import time\n",
    "import threading\n",
    "\n",
    "def calc_square(numbers):\n",
    "    print(\"calculate square numbers\")\n",
    "    for n in numbers:\n",
    "        time.sleep(2)\n",
    "        print('square:',n*n)\n",
    "\n",
    "def calc_cube(numbers):\n",
    "    print(\"calculate cube of numbers\")\n",
    "    for n in numbers:\n",
    "        time.sleep(2)\n",
    "        print('cube:',n*n*n)\n",
    "\n",
    "arr = [2,3,8,9]\n",
    "\n",
    "t = time.time()\n",
    "\n",
    "t1= threading.Thread(target=calc_square, args=(arr,))\n",
    "t2= threading.Thread(target=calc_cube, args=(arr,))\n",
    "\n",
    "t1.start()\n",
    "t2.start()\n",
    "\n",
    "t1.join()\n",
    "t2.join()\n",
    "\n",
    "print(\"done in : \",time.time()-t)\n",
    "print(\"Hah... I am done with all my work now!\")"
   ]
  },
  {
   "cell_type": "code",
   "execution_count": 38,
   "metadata": {
    "collapsed": false
   },
   "outputs": [
    {
     "name": "stderr",
     "output_type": "stream",
     "text": [
      "(thread_0 ) Waiting to join the pool\n",
      "(thread_1 ) Waiting to join the pool\n",
      "(thread_2 ) Waiting to join the pool\n",
      "(thread_0 ) Running: ['thread_0']\n",
      "(thread_3 ) Waiting to join the pool\n",
      "(thread_4 ) Waiting to join the pool\n",
      "(thread_5 ) Waiting to join the pool\n",
      "(thread_6 ) Waiting to join the pool\n",
      "(thread_7 ) Waiting to join the pool\n",
      "(thread_8 ) Waiting to join the pool\n",
      "(thread_9 ) Waiting to join the pool\n",
      "(thread_1 ) Running: ['thread_0', 'thread_1']\n",
      "(thread_2 ) Running: ['thread_0', 'thread_1', 'thread_2']\n",
      "(thread_0 ) Running: ['thread_1', 'thread_2']\n",
      "(thread_3 ) Running: ['thread_1', 'thread_2', 'thread_3']\n",
      "(thread_2 ) Running: ['thread_1', 'thread_3']\n",
      "(thread_1 ) Running: ['thread_3']\n",
      "(thread_4 ) Running: ['thread_3', 'thread_4']\n",
      "(thread_5 ) Running: ['thread_3', 'thread_4', 'thread_5']\n",
      "(thread_3 ) Running: ['thread_4', 'thread_5']\n",
      "(thread_6 ) Running: ['thread_4', 'thread_5', 'thread_6']\n",
      "(thread_4 ) Running: ['thread_5', 'thread_6']\n",
      "(thread_5 ) Running: ['thread_6']\n",
      "(thread_7 ) Running: ['thread_6', 'thread_7']\n",
      "(thread_8 ) Running: ['thread_6', 'thread_7', 'thread_8']\n",
      "(thread_6 ) Running: ['thread_7', 'thread_8']\n",
      "(thread_9 ) Running: ['thread_7', 'thread_8', 'thread_9']\n",
      "(thread_8 ) Running: ['thread_7', 'thread_9']\n",
      "(thread_7 ) Running: ['thread_9']\n",
      "(thread_9 ) Running: []\n"
     ]
    }
   ],
   "source": [
    "import threading\n",
    "import time\n",
    "import logging\n",
    "\n",
    "logging.basicConfig(level=logging.DEBUG,\n",
    "                    format='(%(threadName)-9s) %(message)s',)\n",
    "\n",
    "class ThreadPool(object):\n",
    "    def __init__(self):\n",
    "        super(ThreadPool, self).__init__()\n",
    "        self.active = []\n",
    "        self.lock = threading.Lock()\n",
    "    def makeActive(self, name):\n",
    "        with self.lock:\n",
    "            self.active.append(name)\n",
    "            logging.debug('Running: %s', self.active)\n",
    "    def makeInactive(self, name):\n",
    "        with self.lock:\n",
    "            self.active.remove(name)\n",
    "            logging.debug('Running: %s', self.active)\n",
    "\n",
    "def f(s, pool):\n",
    "    logging.debug('Waiting to join the pool')\n",
    "    with s:\n",
    "        name = threading.currentThread().getName()\n",
    "        pool.makeActive(name)\n",
    "        time.sleep(0.5)\n",
    "        pool.makeInactive(name)\n",
    "\n",
    "if __name__ == '__main__':\n",
    "    pool = ThreadPool()\n",
    "    s = threading.Semaphore(3)\n",
    "    for i in range(10):\n",
    "        t = threading.Thread(target=f, name='thread_'+str(i), args=(s, pool))\n",
    "        t.start()"
   ]
  },
  {
   "cell_type": "code",
   "execution_count": null,
   "metadata": {
    "collapsed": true
   },
   "outputs": [],
   "source": []
  }
 ],
 "metadata": {
  "kernelspec": {
   "display_name": "Python 3",
   "language": "python",
   "name": "python3"
  },
  "language_info": {
   "codemirror_mode": {
    "name": "ipython",
    "version": 3
   },
   "file_extension": ".py",
   "mimetype": "text/x-python",
   "name": "python",
   "nbconvert_exporter": "python",
   "pygments_lexer": "ipython3",
   "version": "3.5.2"
  }
 },
 "nbformat": 4,
 "nbformat_minor": 2
}
