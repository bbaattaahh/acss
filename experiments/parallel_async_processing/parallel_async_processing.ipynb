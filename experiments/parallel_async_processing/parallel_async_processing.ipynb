{
 "cells": [
  {
   "cell_type": "code",
   "execution_count": 8,
   "metadata": {
    "collapsed": false
   },
   "outputs": [
    {
     "name": "stdout",
     "output_type": "stream",
     "text": [
      "1\n",
      "2\n",
      "jani\n",
      "peti\n"
     ]
    }
   ],
   "source": [
    "import os\n",
    "import multiprocessing as mp\n",
    "import datetime\n",
    "import time\n",
    "\n",
    "\n",
    "def testFunc2():\n",
    "    time.sleep(10)\n",
    "    print(\"peti\")\n",
    "    return \"fun2\"\n",
    "\n",
    "def testFunc3():\n",
    "    time.sleep(5)\n",
    "    print(\"jani\")\n",
    "    return \"fun3\"\n",
    "\n",
    "\n",
    "\n",
    "p = mp.Pool(processes=2)\n",
    "p.apply_async(testFunc2)\n",
    "print(1)\n",
    "p.apply_async(testFunc3)\n",
    "print(2)\n",
    "\n"
   ]
  },
  {
   "cell_type": "code",
   "execution_count": 3,
   "metadata": {
    "collapsed": true
   },
   "outputs": [],
   "source": [
    "class TestClass(object):\n",
    "    def __init__(self):\n",
    "        self.x = 1\n",
    "        \n",
    "    def add(self, num):\n",
    "        time.sleep(num)\n",
    "        self.x = self.x + num"
   ]
  },
  {
   "cell_type": "code",
   "execution_count": 4,
   "metadata": {
    "collapsed": true
   },
   "outputs": [],
   "source": [
    "test1=TestClass()\n",
    "test2=TestClass()"
   ]
  },
  {
   "cell_type": "code",
   "execution_count": 5,
   "metadata": {
    "collapsed": false
   },
   "outputs": [
    {
     "name": "stdout",
     "output_type": "stream",
     "text": [
      "11\n",
      "2\n",
      "6\n"
     ]
    }
   ],
   "source": [
    "p = mp.Pool()\n",
    "p.apply_async(test1.add(10))\n",
    "print(test1.x)\n",
    "p.apply_async(test2.add(5))\n",
    "print(2)\n",
    "print(test2.x)\n",
    "p.close()\n",
    "p.join()"
   ]
  },
  {
   "cell_type": "code",
   "execution_count": null,
   "metadata": {
    "collapsed": true
   },
   "outputs": [],
   "source": []
  }
 ],
 "metadata": {
  "kernelspec": {
   "display_name": "Python 3",
   "language": "python",
   "name": "python3"
  },
  "language_info": {
   "codemirror_mode": {
    "name": "ipython",
    "version": 3
   },
   "file_extension": ".py",
   "mimetype": "text/x-python",
   "name": "python",
   "nbconvert_exporter": "python",
   "pygments_lexer": "ipython3",
   "version": "3.5.2"
  }
 },
 "nbformat": 4,
 "nbformat_minor": 2
}
