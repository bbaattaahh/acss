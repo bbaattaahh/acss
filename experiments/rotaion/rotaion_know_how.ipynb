{
 "cells": [
  {
   "cell_type": "code",
   "execution_count": 8,
   "metadata": {
    "collapsed": false
   },
   "outputs": [],
   "source": [
    "import cv2\n",
    "import numpy as np\n",
    "import math"
   ]
  },
  {
   "cell_type": "code",
   "execution_count": 9,
   "metadata": {
    "collapsed": false
   },
   "outputs": [],
   "source": [
    "img = cv2.imread('1.jpg',0)"
   ]
  },
  {
   "cell_type": "code",
   "execution_count": 10,
   "metadata": {
    "collapsed": true
   },
   "outputs": [],
   "source": [
    "def rotate_about_center(src, angle, scale=1.):\n",
    "    w = src.shape[1]\n",
    "    h = src.shape[0]\n",
    "    rangle = np.deg2rad(angle)  # angle in radians\n",
    "    # now calculate new image width and height\n",
    "    nw = (abs(np.sin(rangle)*h) + abs(np.cos(rangle)*w))*scale\n",
    "    nh = (abs(np.cos(rangle)*h) + abs(np.sin(rangle)*w))*scale\n",
    "    # ask OpenCV for the rotation matrix\n",
    "    rot_mat = cv2.getRotationMatrix2D((nw*0.5, nh*0.5), angle, scale)\n",
    "    # calculate the move from the old center to the new center combined\n",
    "    # with the rotation\n",
    "    rot_move = np.dot(rot_mat, np.array([(nw-w)*0.5, (nh-h)*0.5,0]))\n",
    "    # the move only affects the translation, so update the translation\n",
    "    # part of the transform\n",
    "    rot_mat[0,2] += rot_move[0]\n",
    "    rot_mat[1,2] += rot_move[1]\n",
    "    return cv2.warpAffine(src, rot_mat, (int(math.ceil(nw)), int(math.ceil(nh))), flags=cv2.INTER_LANCZOS4)"
   ]
  },
  {
   "cell_type": "code",
   "execution_count": 11,
   "metadata": {
    "collapsed": false
   },
   "outputs": [],
   "source": [
    "for rotation_angle in range(-180, 180):\n",
    "    \n",
    "    dst = rotate_about_center(img,rotation_angle,1)\n",
    "    cv2.imshow('img',dst)\n",
    "    k = cv2.waitKey(30) & 0xff\n",
    "    if k == 27:\n",
    "        break\n",
    "cv2.destroyAllWindows()"
   ]
  },
  {
   "cell_type": "code",
   "execution_count": null,
   "metadata": {
    "collapsed": true
   },
   "outputs": [],
   "source": [
    ""
   ]
  },
  {
   "cell_type": "code",
   "execution_count": null,
   "metadata": {
    "collapsed": true
   },
   "outputs": [],
   "source": [
    ""
   ]
  },
  {
   "cell_type": "code",
   "execution_count": 12,
   "metadata": {
    "collapsed": false
   },
   "outputs": [],
   "source": [
    "there = rotate_about_center(img,90,1)\n",
    "w_or = there.shape[1]\n",
    "h_or = there.shape[0]\n",
    "\n",
    "angle = 90\n",
    "scale = 1\n",
    "rangle = np.deg2rad(angle)  # angle in radians\n",
    "# now calculate new image width and height\n",
    "nw_there = (abs(np.sin(rangle)*h_or) + abs(np.cos(rangle)*w_or))*scale\n",
    "nh_there = (abs(np.cos(rangle)*h_or) + abs(np.sin(rangle)*w_or))*scale"
   ]
  },
  {
   "cell_type": "code",
   "execution_count": 13,
   "metadata": {
    "collapsed": false
   },
   "outputs": [],
   "source": [
    "back = rotate_about_center(there,-90,1)\n",
    "w = back.shape[1]\n",
    "h = back.shape[0]\n",
    "\n",
    "rangle = np.deg2rad(angle)  # angle in radians\n",
    "# now calculate new image width and height\n",
    "nw_back = (abs(np.sin(rangle)*h) + abs(np.cos(rangle)*w))*scale\n",
    "nh_back = (abs(np.cos(rangle)*h) + abs(np.sin(rangle)*w))*scale"
   ]
  },
  {
   "cell_type": "code",
   "execution_count": 14,
   "metadata": {
    "collapsed": false
   },
   "outputs": [
    {
     "data": {
      "text/plain": [
       "True"
      ]
     },
     "execution_count": 14,
     "metadata": {},
     "output_type": "execute_result"
    }
   ],
   "source": [
    "cv2.imwrite(\"result.jpg\", back)"
   ]
  },
  {
   "cell_type": "code",
   "execution_count": null,
   "metadata": {
    "collapsed": false
   },
   "outputs": [],
   "source": [
    ""
   ]
  },
  {
   "cell_type": "markdown",
   "metadata": {},
   "source": [
    "### Coordinates in original picture"
   ]
  },
  {
   "cell_type": "code",
   "execution_count": 15,
   "metadata": {
    "collapsed": true
   },
   "outputs": [],
   "source": [
    "import numpy as np\n",
    "import math\n",
    "import cv2"
   ]
  },
  {
   "cell_type": "code",
   "execution_count": 16,
   "metadata": {
    "collapsed": false
   },
   "outputs": [],
   "source": [
    "src = cv2.imread('1.jpg',0)\n",
    "h, w = src.shape"
   ]
  },
  {
   "cell_type": "code",
   "execution_count": 17,
   "metadata": {
    "collapsed": false
   },
   "outputs": [],
   "source": [
    "x = 0\n",
    "y = 0\n",
    "my_point = np.array([[x], [y]])"
   ]
  },
  {
   "cell_type": "code",
   "execution_count": 18,
   "metadata": {
    "collapsed": false
   },
   "outputs": [
    {
     "data": {
      "text/plain": [
       "(640.0, 481.00000000000006)"
      ]
     },
     "execution_count": 18,
     "metadata": {},
     "output_type": "execute_result"
    }
   ],
   "source": [
    "# Meret novekedes ay eredeti forgatasbol\n",
    "angle = 90\n",
    "scale = 1\n",
    "rangle = np.deg2rad(angle)  # angle in radians\n",
    "# now calculate new image width and height\n",
    "nw_there = (abs(np.sin(rangle)*h_or) + abs(np.cos(rangle)*w_or))*scale\n",
    "nh_there = (abs(np.cos(rangle)*h_or) + abs(np.sin(rangle)*w_or))*scale\n",
    "nw_there, nh_there"
   ]
  },
  {
   "cell_type": "code",
   "execution_count": 36,
   "metadata": {
    "collapsed": false
   },
   "outputs": [
    {
     "data": {
      "text/plain": [
       "array([[ 320],\n",
       "       [-240]], dtype=int64)"
      ]
     },
     "execution_count": 36,
     "metadata": {},
     "output_type": "execute_result"
    }
   ],
   "source": [
    "# Centrum eltolasa a sarokbol a centruma\n",
    "eltolasi_vektor_centrumba = np.array([[w/2], [-h/2]]) \n",
    "\n",
    "my_point_ctc = my_point + eltolasi_vektor_centrumba\n",
    "my_point_ctc"
   ]
  },
  {
   "cell_type": "code",
   "execution_count": 37,
   "metadata": {
    "collapsed": false
   },
   "outputs": [
    {
     "data": {
      "text/plain": [
       "array([[-240.],\n",
       "       [-320.]])"
      ]
     },
     "execution_count": 37,
     "metadata": {},
     "output_type": "execute_result"
    }
   ],
   "source": [
    "# Visszaforgatas\n",
    "angle = -90\n",
    "theta = np.deg2rad(angle)\n",
    "rotMatrix = np.array([[np.cos(theta), -np.sin(theta)], \n",
    "                      [np.sin(theta),  np.cos(theta)]])\n",
    "elforgatott_pont = np.dot(rotMatrix, my_point_ctc)\n",
    "elforgatott_pont"
   ]
  },
  {
   "cell_type": "code",
   "execution_count": 38,
   "metadata": {
    "collapsed": false
   },
   "outputs": [
    {
     "data": {
      "text/plain": [
       "array([[-240.],\n",
       "       [-320.]])"
      ]
     },
     "execution_count": 38,
     "metadata": {},
     "output_type": "execute_result"
    }
   ],
   "source": [
    "# Eltolasi vertor elforgatasa\n",
    "\n",
    "elforgatott_eltolasi_vektor = np.dot(rotMatrix, eltolasi_vektor_centrumba)\n",
    "elforgatott_eltolasi_vektor"
   ]
  },
  {
   "cell_type": "code",
   "execution_count": 41,
   "metadata": {
    "collapsed": false
   },
   "outputs": [
    {
     "data": {
      "text/plain": [
       "array([[-560.],\n",
       "       [ -80.]])"
      ]
     },
     "execution_count": 41,
     "metadata": {},
     "output_type": "execute_result"
    }
   ],
   "source": [
    "#Centrum visszatolasa a centrumbol a sarokba\n",
    "elforgatott_pont - eltolasi_vektor_centrumba"
   ]
  },
  {
   "cell_type": "code",
   "execution_count": 36,
   "metadata": {
    "collapsed": false
   },
   "outputs": [],
   "source": [
    "# Kompenyalas a elforgatasbol eredo meretnovekedessel\n",
    "x_final = x_acc - (nw_there-w)/2\n",
    "y_final = y_acc - (nh_there-h)/2"
   ]
  },
  {
   "cell_type": "code",
   "execution_count": 37,
   "metadata": {
    "collapsed": false
   },
   "outputs": [
    {
     "data": {
      "text/plain": [
       "(array([ 560.]), array([ 79.5]))"
      ]
     },
     "execution_count": 37,
     "metadata": {},
     "output_type": "execute_result"
    }
   ],
   "source": [
    "x_final, y_final"
   ]
  },
  {
   "cell_type": "code",
   "execution_count": null,
   "metadata": {
    "collapsed": true
   },
   "outputs": [],
   "source": [
    ""
   ]
  },
  {
   "cell_type": "code",
   "execution_count": 77,
   "metadata": {
    "collapsed": false
   },
   "outputs": [],
   "source": [
    "theta = math.pi\n",
    "rotMatrix = np.array([[np.cos(theta), -np.sin(theta)], \n",
    "                      [np.sin(theta),  np.cos(theta)]])"
   ]
  },
  {
   "cell_type": "code",
   "execution_count": 79,
   "metadata": {
    "collapsed": false
   },
   "outputs": [
    {
     "data": {
      "text/plain": [
       "array([[ -8.00000000e+01],\n",
       "       [  9.79717439e-15]])"
      ]
     },
     "execution_count": 79,
     "metadata": {},
     "output_type": "execute_result"
    }
   ],
   "source": [
    "np.dot(rotMatrix, my_point)"
   ]
  },
  {
   "cell_type": "code",
   "execution_count": 50,
   "metadata": {
    "collapsed": false
   },
   "outputs": [
    {
     "data": {
      "text/plain": [
       "array([  3.43387484e-07])"
      ]
     },
     "execution_count": 50,
     "metadata": {},
     "output_type": "execute_result"
    }
   ],
   "source": [
    ""
   ]
  },
  {
   "cell_type": "code",
   "execution_count": 51,
   "metadata": {
    "collapsed": false
   },
   "outputs": [
    {
     "data": {
      "text/plain": [
       "array([-79.99258771])"
      ]
     },
     "execution_count": 51,
     "metadata": {},
     "output_type": "execute_result"
    }
   ],
   "source": [
    ""
   ]
  },
  {
   "cell_type": "code",
   "execution_count": null,
   "metadata": {
    "collapsed": true
   },
   "outputs": [],
   "source": [
    ""
   ]
  }
 ],
 "metadata": {
  "kernelspec": {
   "display_name": "Python 2",
   "language": "python",
   "name": "python2"
  },
  "language_info": {
   "codemirror_mode": {
    "name": "ipython",
    "version": 2.0
   },
   "file_extension": ".py",
   "mimetype": "text/x-python",
   "name": "python",
   "nbconvert_exporter": "python",
   "pygments_lexer": "ipython2",
   "version": "2.7.11"
  }
 },
 "nbformat": 4,
 "nbformat_minor": 0
}