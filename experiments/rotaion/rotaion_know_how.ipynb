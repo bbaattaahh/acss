{
 "cells": [
  {
   "cell_type": "code",
   "execution_count": 101,
   "metadata": {
    "collapsed": false
   },
   "outputs": [],
   "source": [
    "import cv2\n",
    "import numpy as np\n",
    "import math"
   ]
  },
  {
   "cell_type": "code",
   "execution_count": 272,
   "metadata": {
    "collapsed": false
   },
   "outputs": [],
   "source": [
    "img = cv2.imread('1.jpg',0)"
   ]
  },
  {
   "cell_type": "code",
   "execution_count": 273,
   "metadata": {
    "collapsed": true
   },
   "outputs": [],
   "source": [
    "def rotate_about_center(src, angle, scale=1.):\n",
    "    w = src.shape[1]\n",
    "    h = src.shape[0]\n",
    "    rangle = np.deg2rad(angle)  # angle in radians\n",
    "    # now calculate new image width and height\n",
    "    nw = (abs(np.sin(rangle)*h) + abs(np.cos(rangle)*w))*scale\n",
    "    nh = (abs(np.cos(rangle)*h) + abs(np.sin(rangle)*w))*scale\n",
    "    # ask OpenCV for the rotation matrix\n",
    "    rot_mat = cv2.getRotationMatrix2D((nw*0.5, nh*0.5), angle, scale)\n",
    "    # calculate the move from the old center to the new center combined\n",
    "    # with the rotation\n",
    "    rot_move = np.dot(rot_mat, np.array([(nw-w)*0.5, (nh-h)*0.5,0]))\n",
    "    # the move only affects the translation, so update the translation\n",
    "    # part of the transform\n",
    "    rot_mat[0,2] += rot_move[0]\n",
    "    rot_mat[1,2] += rot_move[1]\n",
    "    return cv2.warpAffine(src, rot_mat, (int(math.ceil(nw)), int(math.ceil(nh))), flags=cv2.INTER_LANCZOS4)"
   ]
  },
  {
   "cell_type": "code",
   "execution_count": 274,
   "metadata": {
    "collapsed": false
   },
   "outputs": [],
   "source": [
    "for rotation_angle in range(-180, 180):\n",
    "    \n",
    "    dst = rotate_about_center(img,rotation_angle,1)\n",
    "    cv2.imshow('img',dst)\n",
    "    k = cv2.waitKey(30) & 0xff\n",
    "    if k == 27:\n",
    "        break\n",
    "cv2.destroyAllWindows()"
   ]
  },
  {
   "cell_type": "code",
   "execution_count": null,
   "metadata": {
    "collapsed": true
   },
   "outputs": [],
   "source": []
  },
  {
   "cell_type": "code",
   "execution_count": null,
   "metadata": {
    "collapsed": true
   },
   "outputs": [],
   "source": []
  },
  {
   "cell_type": "code",
   "execution_count": 10,
   "metadata": {
    "collapsed": false
   },
   "outputs": [],
   "source": [
    "there = rotate_about_center(img,45,1)\n",
    "w_or = there.shape[1]\n",
    "h_or = there.shape[0]\n",
    "\n",
    "angle = 90\n",
    "scale = 1\n",
    "rangle = np.deg2rad(angle)  # angle in radians\n",
    "# now calculate new image width and height\n",
    "nw_there = (abs(np.sin(rangle)*h_or) + abs(np.cos(rangle)*w_or))*scale\n",
    "nh_there = (abs(np.cos(rangle)*h_or) + abs(np.sin(rangle)*w_or))*scale"
   ]
  },
  {
   "cell_type": "code",
   "execution_count": 6,
   "metadata": {
    "collapsed": false
   },
   "outputs": [],
   "source": [
    "back = rotate_about_center(there,-90,1)\n",
    "w = back.shape[1]\n",
    "h = back.shape[0]\n",
    "\n",
    "rangle = np.deg2rad(angle)  # angle in radians\n",
    "# now calculate new image width and height\n",
    "nw_back = (abs(np.sin(rangle)*h) + abs(np.cos(rangle)*w))*scale\n",
    "nh_back = (abs(np.cos(rangle)*h) + abs(np.sin(rangle)*w))*scale"
   ]
  },
  {
   "cell_type": "code",
   "execution_count": 11,
   "metadata": {
    "collapsed": false
   },
   "outputs": [
    {
     "data": {
      "text/plain": [
       "True"
      ]
     },
     "execution_count": 11,
     "metadata": {},
     "output_type": "execute_result"
    }
   ],
   "source": [
    "cv2.imwrite(\"result.jpg\", there)"
   ]
  },
  {
   "cell_type": "code",
   "execution_count": null,
   "metadata": {
    "collapsed": false
   },
   "outputs": [],
   "source": []
  },
  {
   "cell_type": "markdown",
   "metadata": {},
   "source": [
    "### Coordinates in original picture"
   ]
  },
  {
   "cell_type": "code",
   "execution_count": null,
   "metadata": {
    "collapsed": true
   },
   "outputs": [],
   "source": [
    "import numpy as np\n",
    "import math\n",
    "import cv2"
   ]
  },
  {
   "cell_type": "code",
   "execution_count": 282,
   "metadata": {
    "collapsed": true
   },
   "outputs": [],
   "source": [
    "def calulate_original_coordinat_before_rotation(original_image, rotated_image, point, angle):\n",
    "    w_original = original_image.shape[1]\n",
    "    h_original = original_image.shape[0]\n",
    "\n",
    "    w_rotated = rotated_image.shape[1]\n",
    "    h_rotated = rotated_image.shape[0]\n",
    "    \n",
    "    # From top left coorner to centrum of image\n",
    "    centrum_vector = np.array([[-w_rotated/2], [-h_rotated/2]])\n",
    "\n",
    "    point_relative_to_centrum = point + centrum_vector\n",
    "\n",
    "    # Rotation back\n",
    "    theta = np.deg2rad(angle)\n",
    "    rotMatrix = np.array([[np.cos(theta), -np.sin(theta)], \n",
    "                          [np.sin(theta),  np.cos(theta)]])\n",
    "    rotated_point_relative_to_centrum = np.dot(rotMatrix, point_relative_to_centrum)\n",
    "\n",
    "    # Centrum to top left coorner\n",
    "    top_left_centrum_point = rotated_point_relative_to_centrum - centrum_vector\n",
    "    \n",
    "    # Compenyation with picture growth\n",
    "    w_growth_on_one_side = (w_rotated-w_original) / 2 \n",
    "    h_growth_on_one_side = (h_rotated-h_original) / 2\n",
    "    compensation_vector = np.array([[w_growth_on_one_side],[h_growth_on_one_side]])\n",
    "    \n",
    "    original_point = top_left_centrum_point - compensation_vector\n",
    "    \n",
    "    return (original_point)"
   ]
  },
  {
   "cell_type": "code",
   "execution_count": 287,
   "metadata": {
    "collapsed": false
   },
   "outputs": [
    {
     "data": {
      "text/plain": [
       "array([[ 638.19805153],\n",
       "       [  -1.83051917]])"
      ]
     },
     "execution_count": 287,
     "metadata": {},
     "output_type": "execute_result"
    }
   ],
   "source": [
    "calulate_original_coordinat_before_rotation(img, there, np.array([[450],[0]]), 45)\n",
    "\n"
   ]
  },
  {
   "cell_type": "code",
   "execution_count": 269,
   "metadata": {
    "collapsed": true
   },
   "outputs": [],
   "source": [
    "my_point = np.array([[0],[450]])"
   ]
  },
  {
   "cell_type": "code",
   "execution_count": 279,
   "metadata": {
    "collapsed": false
   },
   "outputs": [
    {
     "data": {
      "text/plain": [
       "(792L, 792L)"
      ]
     },
     "execution_count": 279,
     "metadata": {},
     "output_type": "execute_result"
    }
   ],
   "source": [
    "there = rotate_about_center(img,45,1)\n",
    "w_or = there.shape[1]\n",
    "h_or = there.shape[0]\n",
    "w_or, h_or"
   ]
  },
  {
   "cell_type": "code",
   "execution_count": 280,
   "metadata": {
    "collapsed": false
   },
   "outputs": [
    {
     "data": {
      "text/plain": [
       "array([[-396],\n",
       "       [-396]], dtype=int64)"
      ]
     },
     "execution_count": 280,
     "metadata": {},
     "output_type": "execute_result"
    }
   ],
   "source": [
    "# centrum a kozéppont\n",
    "centrum1 = np.array([[-w_or/2], [-h_or/2]])\n",
    "centrum1"
   ]
  },
  {
   "cell_type": "code",
   "execution_count": 281,
   "metadata": {
    "collapsed": false
   },
   "outputs": [
    {
     "data": {
      "text/plain": [
       "array([[-396],\n",
       "       [  54]], dtype=int64)"
      ]
     },
     "execution_count": 281,
     "metadata": {},
     "output_type": "execute_result"
    }
   ],
   "source": [
    "step1 = my_point + centrum1\n",
    "step1"
   ]
  },
  {
   "cell_type": "code",
   "execution_count": null,
   "metadata": {
    "collapsed": false
   },
   "outputs": [],
   "source": []
  },
  {
   "cell_type": "code",
   "execution_count": null,
   "metadata": {
    "collapsed": false
   },
   "outputs": [],
   "source": []
  },
  {
   "cell_type": "code",
   "execution_count": 263,
   "metadata": {
    "collapsed": false
   },
   "outputs": [
    {
     "data": {
      "text/plain": [
       "array([[-318.19805153],\n",
       "       [-241.83051917]])"
      ]
     },
     "execution_count": 263,
     "metadata": {},
     "output_type": "execute_result"
    }
   ],
   "source": [
    "# Rotation back\n",
    "theta = np.deg2rad(45)\n",
    "rotMatrix = np.array([[np.cos(theta), -np.sin(theta)], \n",
    "                      [np.sin(theta),  np.cos(theta)]])\n",
    "step2 = np.dot(rotMatrix, step1)\n",
    "step2"
   ]
  },
  {
   "cell_type": "code",
   "execution_count": 264,
   "metadata": {
    "collapsed": false
   },
   "outputs": [
    {
     "data": {
      "text/plain": [
       "array([[  77.80194847],\n",
       "       [ 154.16948083]])"
      ]
     },
     "execution_count": 264,
     "metadata": {},
     "output_type": "execute_result"
    }
   ],
   "source": [
    "step2 - centrum1 "
   ]
  },
  {
   "cell_type": "code",
   "execution_count": 238,
   "metadata": {
    "collapsed": false
   },
   "outputs": [
    {
     "data": {
      "text/plain": [
       "array([[-558.22662223],\n",
       "       [  78.19805153]])"
      ]
     },
     "execution_count": 238,
     "metadata": {},
     "output_type": "execute_result"
    }
   ],
   "source": []
  },
  {
   "cell_type": "code",
   "execution_count": null,
   "metadata": {
    "collapsed": false
   },
   "outputs": [],
   "source": []
  },
  {
   "cell_type": "code",
   "execution_count": 266,
   "metadata": {
    "collapsed": false
   },
   "outputs": [
    {
     "data": {
      "text/plain": [
       "(75.979797464466628, 155.97979746446663)"
      ]
     },
     "execution_count": 266,
     "metadata": {},
     "output_type": "execute_result"
    }
   ],
   "source": [
    "# Eredeti képpel visszatolni\n",
    "original_rotation = np.deg2rad(45) \n",
    "nw_there = (abs(np.sin(original_rotation)*480) + abs(np.cos(original_rotation)*640))*scale\n",
    "nh_there = (abs(np.cos(original_rotation)*480) + abs(np.sin(original_rotation)*640))*scale\n",
    "(nw_there-640)/2, (nh_there-480)/2"
   ]
  },
  {
   "cell_type": "code",
   "execution_count": 240,
   "metadata": {
    "collapsed": false
   },
   "outputs": [],
   "source": []
  }
 ],
 "metadata": {
  "kernelspec": {
   "display_name": "Python 2",
   "language": "python",
   "name": "python2"
  },
  "language_info": {
   "codemirror_mode": {
    "name": "ipython",
    "version": 2
   },
   "file_extension": ".py",
   "mimetype": "text/x-python",
   "name": "python",
   "nbconvert_exporter": "python",
   "pygments_lexer": "ipython2",
   "version": "2.7.11"
  }
 },
 "nbformat": 4,
 "nbformat_minor": 0
}
