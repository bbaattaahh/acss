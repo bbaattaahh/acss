{
 "cells": [
  {
   "cell_type": "code",
   "execution_count": 2,
   "metadata": {
    "collapsed": true
   },
   "outputs": [],
   "source": [
    "import pygame"
   ]
  },
  {
   "cell_type": "code",
   "execution_count": 3,
   "metadata": {
    "collapsed": false
   },
   "outputs": [],
   "source": [
    "pygame.init()\n",
    "\n",
    "screen = pygame.display.set_mode((400, 300))\n",
    "loop = True\n",
    "\n",
    "# No need to re-make these again each loop.\n",
    "font1 = pygame.font.SysFont(\"calibri\",40)\n",
    "font2 = pygame.font.SysFont(\"calibri\",20)\n",
    "\n",
    "fps = 30 \n",
    "clock = pygame.time.Clock()\n",
    "\n",
    "i=0\n",
    "\n",
    "while loop:\n",
    "    screen.fill((0, 0, 0), (0, 0, 400, 300))\n",
    "\n",
    "    text = font1.render(\"TextA\", True,(255,255,255))\n",
    "    screen.blit(text,(0,0))\n",
    "\n",
    "    text = font2.render(str(i), True,(255,255,255))\n",
    "    screen.blit(text,(50,50))\n",
    "\n",
    "    i += 1\n",
    "    if i > 30:\n",
    "        break\n",
    "    \n",
    "    pygame.display.update()   # Call this only once per loop\n",
    "    clock.tick(fps) \n",
    "\n",
    "pygame.quit()\n",
    "exit()\n",
    "# Note: After one run it is always froze out"
   ]
  },
  {
   "cell_type": "code",
   "execution_count": null,
   "metadata": {
    "collapsed": true
   },
   "outputs": [],
   "source": [
    ""
   ]
  }
 ],
 "metadata": {
  "kernelspec": {
   "display_name": "Python 2",
   "language": "python",
   "name": "python2"
  },
  "language_info": {
   "codemirror_mode": {
    "name": "ipython",
    "version": 2.0
   },
   "file_extension": ".py",
   "mimetype": "text/x-python",
   "name": "python",
   "nbconvert_exporter": "python",
   "pygments_lexer": "ipython2",
   "version": "2.7.13"
  }
 },
 "nbformat": 4,
 "nbformat_minor": 0
}